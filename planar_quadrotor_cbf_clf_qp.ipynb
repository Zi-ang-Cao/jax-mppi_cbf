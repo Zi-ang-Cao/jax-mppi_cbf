{
  "cells": [
    {
      "cell_type": "code",
      "execution_count": null,
      "metadata": {
        "colab": {
          "base_uri": "https://localhost:8080/"
        },
        "id": "sEhvW2OpdeXn",
        "outputId": "48e77881-1520-402f-df89-542ff95f3b5b"
      },
      "outputs": [
        {
          "name": "stdout",
          "output_type": "stream",
          "text": [
            "Requirement already satisfied: cvxpy in /usr/local/lib/python3.10/dist-packages (1.3.4)\n",
            "Requirement already satisfied: osqp in /usr/local/lib/python3.10/dist-packages (0.6.2.post8)\n",
            "Requirement already satisfied: ecos>=2 in /usr/local/lib/python3.10/dist-packages (from cvxpy) (2.0.13)\n",
            "Requirement already satisfied: scs>=1.1.6 in /usr/local/lib/python3.10/dist-packages (from cvxpy) (3.2.4.post1)\n",
            "Requirement already satisfied: numpy>=1.15 in /usr/local/lib/python3.10/dist-packages (from cvxpy) (1.25.2)\n",
            "Requirement already satisfied: scipy>=1.1.0 in /usr/local/lib/python3.10/dist-packages (from cvxpy) (1.11.4)\n",
            "Requirement already satisfied: setuptools>65.5.1 in /usr/local/lib/python3.10/dist-packages (from cvxpy) (67.7.2)\n",
            "Requirement already satisfied: qdldl in /usr/local/lib/python3.10/dist-packages (from osqp) (0.1.7.post2)\n"
          ]
        }
      ],
      "source": [
        "!pip install  cvxpy osqp"
      ]
    },
    {
      "cell_type": "code",
      "execution_count": 11,
      "metadata": {
        "id": "mr5vY25DeFTZ"
      },
      "outputs": [],
      "source": [
        "import numpy as np\n",
        "import cvxpy as cp\n",
        "from scipy.integrate import solve_ivp\n",
        "from matplotlib import pyplot as plt"
      ]
    },
    {
      "cell_type": "code",
      "execution_count": 12,
      "metadata": {
        "id": "f2V5y3ledidg"
      },
      "outputs": [],
      "source": [
        "# Quadrotor parameters\n",
        "m_q = 1.0 # kg\n",
        "I_xx = 0.1 # kg.m^2\n",
        "l_q = 0.3 # m, length of the quadrotor\n",
        "g = 9.81\n",
        "\n",
        "# Controller parameters\n",
        "params = {\n",
        "    'alpha': 7.5,\n",
        "    'beta': 5.0,\n",
        "    'gamma_p': 2.5334991360748047,\n",
        "    'gamma_o': 6.8100624327890635,\n",
        "    'kp_ey': 0.8060171897461441,\n",
        "    'kp_ez': 1.666562251062336,\n",
        "    'kp_e_yzdot': 1.5596285831810783,\n",
        "    'ko_e': 7.612698055588866,\n",
        "    'ko_phidot': 0.04242324430833757,\n",
        "    'ko_e_phidot': 0.7556504455549217\n",
        "}\n"
      ]
    },
    {
      "cell_type": "markdown",
      "metadata": {
        "id": "WWqnprviFlcL"
      },
      "source": [
        "## Define 2D planar quadrotor models\n",
        "\n",
        "The model of the planar quadrotor is from an [Aerial Robitics lecture](https://www.coursera.org/lecture/robotics-flight/2-d-quadrotor-control-kakc6) on couyrsera.\n",
        "\n",
        "The state of the planar quadrotor is defined as\n",
        "\n",
        "\\begin{equation}\n",
        "(y, \\dot{y}, z, \\dot{z}, \\phi, \\dot{\\phi})\n",
        "\\end{equation}\n",
        "where:\n",
        "- $(y, z)$ is the position.\n",
        "- $\\phi$ is the roll angle.\n",
        "\n",
        "The control input consists of:\n",
        "- The total thrust $u_1$.\n",
        "- The torque provided by the rotors $u_2$.\n",
        "\n",
        "The dynamics of the planar quadrotor are described by the following equations:\n",
        "$$\n",
        "\\begin{align}\n",
        "    \\ddot{y} &= \\frac{-u_1}{m_q}\\cdot{\\sin(\\phi)} \\\\\n",
        "    \\ddot{z} &= -g + \\frac{u_1}{m_q}\\cdot{\\cos(\\phi)} \\\\\n",
        "    \\ddot{\\phi} &= \\frac{u_2}{I_{xx}}\n",
        "\\end{align}\n",
        "$$\n",
        "\n",
        "where $m_q$ is the mass of the quadrotor, $I_{xx}$ is the inertia moment of the quadrotor, and $g$ is the gravity."
      ]
    },
    {
      "cell_type": "code",
      "execution_count": 13,
      "metadata": {
        "id": "qJXgGYcwFlcM"
      },
      "outputs": [],
      "source": [
        "def dynamics_ode(t, state, u1, u2, m_q=m_q, g=g, I_xx=I_xx):\n",
        "    \"\"\"\n",
        "    Calculate the next state of the system based on the current state and control inputs.\n",
        "    :param u1: Thrust input\n",
        "    :param u2: Moments input\n",
        "    :return: New state\n",
        "    \"\"\"\n",
        "    y, y_dot, z, z_dot, phi, phi_dot = state\n",
        "    # Quadrotor dynamics\n",
        "    y_ddot = -u1 * np.sin(phi) / m_q\n",
        "    z_ddot = -g + u1 * np.cos(phi) / m_q\n",
        "    phi_ddot = u2 / I_xx\n",
        "\n",
        "    return np.array([y_dot, y_ddot, z_dot, z_ddot, phi_dot, phi_ddot])"
      ]
    },
    {
      "cell_type": "markdown",
      "metadata": {
        "id": "FQEH2sLhFlcM"
      },
      "source": [
        "## Define QP controllers\n",
        "\n",
        "The controller design discussed here is adapted from the research presented by Guofan Wu and Koushil Sreenat. The full paper is available [here](https://hybrid-robotics.berkeley.edu/publications/ACC2016_Safety_Control_Planar_Quadrotor.pdf).\n",
        "\n",
        "> Wu, Guofan, and Koushil Sreenath. \"Safety-critical control of a planar quadrotor.\" 2016 American control conference (ACC). IEEE, 2016.\n",
        "\n",
        "### Overview of the Controller Architecture\n",
        "The proposed architecture divides the control system into two main components: the position-level controller and the orientation-level controller. Each targets specific aspects of the quadrotor's flight dynamics.\n",
        "\n",
        "![](https://github.com/shaoanlu/mppi_cbf_playground/blob/main/assets/clf_cbf_qp_arch.jpg?raw=1)\n",
        "\n",
        "### Position-level controller\n",
        "The main purposes of the posiiton-level controll are:\n",
        "1) To calculate intermediate signals that will be used to drive the quadrotor toward the target position $y^*$ and $z^*$.\n",
        "2) To addresses the challenges associated with the quadrotor being an underactuated system, which means direct thrust and moment controls are not presented in both the Control Barrier Function (CBF) and Control Lyapunov Function (CLF).\n",
        "\n",
        "To address the latter issue, the controller employs virtual controls using the following simplified dynamics:\n",
        "$$\n",
        "\\begin{align}\n",
        "    \\ddot{y} &= m_q u_{v1}, & \\ddot{z} &= m_q u_{v2}\n",
        "\\end{align}\n",
        "$$\n",
        "Here, $u_{v1}$ and $u_{v2}$ are virtual controls. The controller optimizes these controls by solving a Quadratic Programming (QP) problem that incorporates both CLF and CBF constraints to ensure that the quadrotor reaching target position in finite time without collision:\n",
        "$$\n",
        "\\begin{align}\n",
        "    u^*_{v1},u^*_{v2} &= \\text{argmin  } u^2_{v1} + u^2_{v2} + 10\\cdot{\\delta} \\\\\n",
        "    \\text{s.t.} & \\\\\n",
        "    &\\dot{V}_p + \\gamma V_p \\le 0 & \\text{(CLF constraint)}\\\\\n",
        "    & \\ddot{h_p} + \\beta \\dot{h_p} + \\alpha h_p \\le \\delta & \\text{(CBF constraint)}\n",
        "\\end{align}\n",
        "$$\n",
        "\n",
        "After solving the QP, desired state $u_{1d}$ and $\\phi_d$ is then calculated for the downstream orientation-level controller.\n",
        "$$\n",
        "\\begin{align}\n",
        "    u_{1d} &=  \\text{max} \\{U_v\\cos{\\phi}, U_v\\sin{\\phi}, 0\\}, & U_v = \\sqrt{u^2_{v1}+u^2_{v2}}\\\\\n",
        "    \\phi_d &= -\\arctan{(u_{v1}/u_{v2})}\n",
        "\\end{align}\n",
        "$$\n",
        "\n",
        "\n",
        "### Orientation-level conrtoller\n",
        "The main purpose of the orientaiton-level controller is to track the desired signals $u_{1d}$ and $\\phi_d$. As such, it uses desired states from the position-level output and solves another QP problem to determine the actual commands for the quadrotor. This controller incorporates the full dynamics of the quadrotor in its CLF/CBF constraints and is defined as follows:\n",
        "$$\n",
        "\\begin{align}\n",
        "    u^*_{1},u^*_{2} &= \\text{argmin  } (u_1-u_{1d})^2 + u^2_2 + 10^2\\delta_{CBF} + 10^5\\delta_{CLF} \\\\\n",
        "    \\text{s.t.} & \\\\\n",
        "    &\\dot{V}_o + \\gamma V_o \\le \\delta_{CLF} & \\text{(CLF constraint)}\\\\\n",
        "    & \\ddot{h_o} + \\beta \\dot{h_o} + \\alpha h_o \\le \\delta_{CBF} & \\text{(CBF constraint)}\n",
        "\\end{align}\n",
        "$$\n",
        "\n",
        "For further details on the formulation and implementation, please refer to Section V of the cited paper and the code below."
      ]
    },
    {
      "cell_type": "code",
      "execution_count": 14,
      "metadata": {
        "id": "n8fMG65wwnA5"
      },
      "outputs": [],
      "source": [
        "def position_qp_controller(state, obs_center, obs_radius, target_position, params=None):\n",
        "    # Get parameters\n",
        "    if params is not None:\n",
        "        gamma = params[\"gamma_p\"]\n",
        "        alpha, beta = params[\"alpha\"], params[\"beta\"]\n",
        "        kp_yzdot, kp_ey, kp_ez, kp_e_yzdot = m_q, params[\"kp_ey\"], params[\"kp_ez\"], params[\"kp_e_yzdot\"]\n",
        "    else:\n",
        "        # default values\n",
        "        gamma = 0.6009727117576193\n",
        "        alpha, beta = 7.5, 5.0\n",
        "        kp_yzdot, kp_ey, kp_ez, kp_e_yzdot = m_q, 0.6233345302311967, 6.38664193836647, 1.231530796565488\n",
        "\n",
        "    # Get state\n",
        "    y, y_dot, z, z_dot, phi, phi_dot = state\n",
        "    sin_phi, cos_phi = np.sin(phi), np.cos(phi)\n",
        "\n",
        "    # Define virtual control inputs and control variables\n",
        "    virtual_u1 = cp.Variable()\n",
        "    virtual_u2 = cp.Variable()\n",
        "    slack_cbf = cp.Variable()\n",
        "    y_ddot = virtual_u1 / m_q  # assume direct control on YZ direction\n",
        "    z_ddot = virtual_u2 / m_q  # assume direct control on YZ direction\n",
        "\n",
        "    # Construct CBF constraints\n",
        "    cbf_constraints = []\n",
        "    for (y_obs, z_obs), radius in zip(obs_center, obs_radius):\n",
        "      # Barrier function h(x): Distance to each obstacle\n",
        "      d = cp.sqrt((y - y_obs)**2 + (z - z_obs)**2)\n",
        "      h = d - radius - l_q\n",
        "      h_dot = ((y - y_obs) / d * y_dot) + ((z - z_obs) / d * z_dot)  # First derivative of the barrier function\n",
        "      h_ddot = (y - y_obs) / d * y_ddot + (z - z_obs) / d * z_ddot - (y_dot**2 + z_dot**2) / d  # Second derivative of the barrier function\n",
        "      cbf_constraint = h_ddot + beta * h_dot + alpha * h >= -slack_cbf  # Second-order CBF constraint\n",
        "      cbf_constraints.append(cbf_constraint)\n",
        "\n",
        "    # Construct the Lyapunov function\n",
        "    y_des, z_des = target_position\n",
        "    V = (\n",
        "        kp_ey*(y - y_des)**2 +\n",
        "        kp_ez*(z - z_des)**2 +\n",
        "        kp_yzdot*y_dot**2 +\n",
        "        kp_yzdot*z_dot**2 +\n",
        "        kp_e_yzdot*(y - y_des)*z_dot +\n",
        "        kp_e_yzdot*(z - z_des)*z_dot\n",
        "    )\n",
        "    # Derivative of the Lyapunov function\n",
        "    V_dot = (\n",
        "        2 * kp_ey * (y - y_des) * y_dot +\n",
        "        2 * kp_ez * (z - z_des) * z_dot +\n",
        "        2 * kp_yzdot * y_dot * y_ddot +\n",
        "        2 * kp_yzdot * z_dot * z_ddot +\n",
        "        kp_e_yzdot*y_dot**2 + kp_e_yzdot*(y - y_des)*y_ddot +\n",
        "        kp_e_yzdot*z_dot**2 + kp_e_yzdot*(z - z_des)*z_ddot\n",
        "    )\n",
        "\n",
        "    # CLF constraint (no need for CLF slack variabl as we are using virtual force control)\n",
        "    clf_condition = V_dot + gamma * V <= 0\n",
        "\n",
        "    # Objective: minimize control efforts while satisfying CBF and CLF constraints\n",
        "    objective = cp.Minimize(cp.square(virtual_u1) + cp.square(virtual_u2) + 1e1*cp.square(slack_cbf))\n",
        "    prob = cp.Problem(objective,[clf_condition] + cbf_constraints)\n",
        "    _ = prob.solve(solver=cp.OSQP)\n",
        "\n",
        "    # Compute actual control inputs from the optimized virtual inputs\n",
        "    comp_virtual_u2 = virtual_u2.value + g  # IMPORTANT: gravity compensation\n",
        "    desired_thrust = np.sqrt(virtual_u1.value**2 + comp_virtual_u2**2)\n",
        "    desired_thrust = np.clip(np.maximum(desired_thrust*sin_phi, desired_thrust*cos_phi), 0, np.inf)\n",
        "    desired_phi = -np.arctan(virtual_u1.value/comp_virtual_u2)\n",
        "\n",
        "    return np.array([desired_thrust, desired_phi])\n",
        "\n",
        "def orientation_qp_controller(state, desired_thrust, desired_phi, obs_center, obs_radius, params=None):\n",
        "    # Get parameters\n",
        "    if params is not None:\n",
        "        gamma = params[\"gamma_o\"]\n",
        "        alpha, beta = params[\"alpha\"], params[\"beta\"]\n",
        "        ko_e, ko_phidot, ko_e_phidot = params[\"ko_e\"], params[\"ko_phidot\"], params[\"ko_e_phidot\"]\n",
        "    else:\n",
        "        # default values\n",
        "        gamma = 10.486772559058295\n",
        "        alpha, beta = 7.5, 5.0\n",
        "        ko_e, ko_phidot, ko_e_phidot = 4.543613398627403, 0.07817105307302716, 1.3579531762833574\n",
        "\n",
        "    # Define the control variables\n",
        "    u1 = cp.Variable()\n",
        "    u2 = cp.Variable()\n",
        "    slack_clf = cp.Variable()\n",
        "    slack_cbf = cp.Variable()\n",
        "\n",
        "    # Get state\n",
        "    y, y_dot, z, z_dot, phi, phi_dot = state\n",
        "    sin_phi, cos_phi = np.sin(phi), np.cos(phi)\n",
        "    y_ddot = -u1 * sin_phi / m_q\n",
        "    z_ddot = -g + u1 * cos_phi / m_q\n",
        "\n",
        "    # Construct CBF constraints\n",
        "    cbf_constraints = []\n",
        "    for (y_obs, z_obs), radius in zip(obs_center, obs_radius):\n",
        "      # Barrier function h(x): Distance to each obstacle\n",
        "      d = cp.sqrt((y - y_obs)**2 + (z - z_obs)**2)\n",
        "      h = d - radius - l_q\n",
        "      h_dot = ((y - y_obs) / d * y_dot) + ((z - z_obs) / d * z_dot)  # First derivative of the barrier function\n",
        "      h_ddot = (y - y_obs) / d * y_ddot + (z - z_obs) / d * z_ddot - (y_dot**2 + z_dot**2) / d  # Second derivative of the barrier function\n",
        "      cbf_constraint = h_ddot + beta * h_dot + alpha * h >= -slack_cbf  # Second-order CBF constraint\n",
        "      cbf_constraints.append(cbf_constraint)\n",
        "\n",
        "    # Construct CLF constraint\n",
        "    phi_ddot = u2 / I_xx\n",
        "    e_phi = (phi - desired_phi)\n",
        "    V = ko_e*e_phi**2 + ko_phidot*phi_dot**2 + ko_e_phidot*e_phi*phi_dot\n",
        "    V_dot = 2 * ko_e * e_phi * phi_dot + 2 * ko_phidot * phi_dot * phi_ddot + ko_e_phidot*phi_dot**2 + ko_e_phidot*e_phi*phi_ddot\n",
        "    clf_condition = V_dot + gamma * V <= slack_clf\n",
        "\n",
        "    # Objective: minimize the deviation from the desired control while satisfying CBF and CLF constraints\n",
        "    objective = cp.Minimize(cp.square(u1 - desired_thrust) + cp.square(u2) + 1e5*cp.square(slack_clf) + 1e2*cp.square(slack_cbf))\n",
        "    prob = cp.Problem(objective,[clf_condition, u1 >= 0, u1 <= 40, u2 >= -20, u2 <= 20] + cbf_constraints)\n",
        "    _ = prob.solve(solver=cp.OSQP)\n",
        "\n",
        "    return np.array([u1.value, u2.value])\n",
        "\n",
        "\n"
      ]
    },
    {
      "cell_type": "code",
      "execution_count": 15,
      "metadata": {
        "id": "zZScq2qeFlcM"
      },
      "outputs": [],
      "source": [
        "def cbf_clf_controller(state, obs_center, obs_radius, target_position, params=None):\n",
        "    desired_thrust, desired_phi = position_qp_controller(state, obs_center, obs_radius, target_position, params=params)\n",
        "    control_command = orientation_qp_controller(state, desired_thrust, desired_phi, obs_center, obs_radius, params=params)\n",
        "    return control_command"
      ]
    },
    {
      "cell_type": "markdown",
      "metadata": {
        "id": "JbcJTVPFFlcM"
      },
      "source": [
        "## Run simulation and visualize result"
      ]
    },
    {
      "cell_type": "code",
      "execution_count": 18,
      "metadata": {
        "colab": {
          "base_uri": "https://localhost:8080/"
        },
        "id": "Em2oMk2PdigK",
        "outputId": "11043255-481a-420b-f9eb-59b5be4502a8"
      },
      "outputs": [
        {
          "name": "stdout",
          "output_type": "stream",
          "text": [
            "target_position=[8, 5]\n"
          ]
        }
      ],
      "source": [
        "# Environment parameters\n",
        "sim_time_sec = 20\n",
        "dt = 0.1  # Time step [sec]\n",
        "obs_center = [(5, 5), (2, 2), (8, 2), (2, 6)]  # position of the obstacles\n",
        "obs_radius = [1.2, 1.5, 0.98, 2]  # Radius of the obstacles\n",
        "target_position = [8, 5]\n",
        "print(f\"{target_position=}\")\n",
        "\n",
        "# Set initial state of the quadrotor\n",
        "y = 0.0\n",
        "z = 0.0\n",
        "phi = 0.0\n",
        "y_dot = 0.0\n",
        "z_dot = 0.0\n",
        "phi_dot = 0.0\n",
        "state = np.array([y, y_dot, z, z_dot, phi, phi_dot])\n",
        "\n",
        "# Variables for logging\n",
        "states = [state]\n",
        "u_actual = [np.zeros((2,))]\n",
        "\n",
        "# Run closed-loop simulation\n",
        "for t in np.linspace(0, sim_time_sec, int(sim_time_sec/dt)+1):\n",
        "  #safe_control = cbf_control(state, u_desired, obs_center, obs_radius)\n",
        "  control = cbf_clf_controller(state, obs_center, obs_radius, target_position=target_position, params=None)\n",
        "\n",
        "  sol = solve_ivp(dynamics_ode, [t, t+dt], state, args=(control[0], control[1]), method='RK45')\n",
        "  state = sol.y[:, -1]\n",
        "  states.append(state)\n",
        "  u_actual.append(control)\n",
        "\n",
        "# post process\n",
        "states = np.array(states)\n",
        "u_actual = np.array(u_actual)"
      ]
    },
    {
      "cell_type": "code",
      "execution_count": 19,
      "metadata": {
        "colab": {
          "base_uri": "https://localhost:8080/",
          "height": 791
        },
        "id": "djQuMxzKdiio",
        "outputId": "c9accce0-cbf1-4653-837a-0f320f5ffbf6"
      },
      "outputs": [
        {
          "name": "stderr",
          "output_type": "stream",
          "text": [
            "WARNING:matplotlib.legend:No artists with labels found to put in legend.  Note that artists whose label start with an underscore are ignored when legend() is called with no argument.\n"
          ]
        },
        {
          "data": {
            "image/png": "[encoded data removed]",
            "text/plain": [
              "<Figure size 640x480 with 1 Axes>"
            ]
          },
          "metadata": {},
          "output_type": "display_data"
        },
        {
          "data": {
            "image/png": "[encoded data removed]",
            "text/plain": [
              "<Figure size 640x480 with 1 Axes>"
            ]
          },
          "metadata": {},
          "output_type": "display_data"
        }
      ],
      "source": [
        "plt.gca().set_aspect('equal', adjustable='box')\n",
        "# Plot obstacles\n",
        "for obs_idx in range(len(obs_center)):\n",
        "    circle = plt.Circle((obs_center[obs_idx][0], obs_center[obs_idx][1]), obs_radius[obs_idx], color='grey', fill=True, linestyle='--', linewidth=2, alpha=0.5)\n",
        "    plt.gca().add_artist(circle)\n",
        "\n",
        "ys, zs, phis = states[..., 0], states[..., 2], states[..., 4]\n",
        "# Plot quadrotor pose\n",
        "y_ = [(y-l_q*np.cos(phi), y+l_q*np.cos(phi)) for (y, phi) in zip(ys[::7], phis[::7])]\n",
        "z_ = [(z-l_q*np.sin(phi), z+l_q*np.sin(phi)) for (z, phi) in zip(zs[::7], phis[::7])]\n",
        "for yy, zz in zip(y_, z_):\n",
        "  plt.plot(yy, zz, marker=\"o\", color=\"r\", alpha=0.5)\n",
        "\n",
        "# Plot trajectory\n",
        "plt.scatter([y], [z], s=150, color=\"g\")\n",
        "plt.scatter([target_position[0]], [target_position[1]], s=150, color=\"purple\")\n",
        "plt.plot(states[:, 0], states[:, 2])\n",
        "plt.xlim(-3.5, 12); plt.ylim(-1.2, 8); plt.grid(); plt.legend()\n",
        "plt.show()\n",
        "\n",
        "# Plot control signals\n",
        "plt.plot(u_actual)\n",
        "plt.show()"
      ]
    },
    {
      "cell_type": "code",
      "execution_count": null,
      "metadata": {
        "id": "70B8O1EFbDt8"
      },
      "outputs": [],
      "source": []
    },
    {
      "cell_type": "code",
      "execution_count": null,
      "metadata": {
        "id": "wrMB8-e2X5k9"
      },
      "outputs": [],
      "source": []
    }
  ],
  "metadata": {
    "colab": {
      "provenance": []
    },
    "kernelspec": {
      "display_name": "Python 3",
      "name": "python3"
    },
    "language_info": {
      "name": "python"
    }
  },
  "nbformat": 4,
  "nbformat_minor": 0
}
